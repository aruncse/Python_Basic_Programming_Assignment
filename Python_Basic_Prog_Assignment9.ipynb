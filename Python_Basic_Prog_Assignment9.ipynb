{
 "cells": [
  {
   "cell_type": "markdown",
   "metadata": {},
   "source": [
    "## Python Basic Programming Assignment 9"
   ]
  },
  {
   "cell_type": "markdown",
   "metadata": {},
   "source": [
    "**1. Write a Python program to check if the given number is a Disarium Number?**"
   ]
  },
  {
   "cell_type": "code",
   "execution_count": null,
   "metadata": {},
   "outputs": [],
   "source": [
    "\n",
    "import math\n",
    "\n",
    "def disarium(n) :\n",
    "    digits = len(str(n))\n",
    "    sum = 0 \n",
    "    x = n\n",
    "    while (x!=0) :\n",
    "        r = x % 10\n",
    "        sum = (int) (sum + math.pow(r, digits))\n",
    "        digits -= 1\n",
    "        x = x//10\n",
    "\n",
    "    if sum == n :\n",
    "        return 1\n",
    "    else :\n",
    "        return 0\n",
    "\n",
    "n = int(input(\"Enter the Number \"))\n",
    "if (disarium(n) == 1) :\n",
    "    print (\"Disarium Number\")\n",
    "else :\n",
    "    print (\"Not a Disarium Number\")"
   ]
  },
  {
   "cell_type": "markdown",
   "metadata": {},
   "source": [
    "**2. Write a Python program to print all disarium numbers between 1 to 100?**"
   ]
  },
  {
   "cell_type": "code",
   "execution_count": null,
   "metadata": {},
   "outputs": [],
   "source": [
    "import math\n",
    "\n",
    "def disarium(n) :\n",
    "    digits = len(str(n))\n",
    "    sum = 0 \n",
    "    x = n\n",
    "    while (x!=0) :\n",
    "        r = x % 10\n",
    "        sum = (int) (sum + math.pow(r, digits))\n",
    "        digits -= 1\n",
    "        x = x//10\n",
    "\n",
    "    if sum == n :\n",
    "        return 1\n",
    "    else :\n",
    "        return 0\n",
    "\n",
    "for i in range(101):\n",
    "    if (disarium(i) == 1) :\n",
    "        print (i)"
   ]
  },
  {
   "cell_type": "markdown",
   "metadata": {},
   "source": [
    "**3. Write a Python program to check if the given number is Happy Number?**"
   ]
  },
  {
   "cell_type": "code",
   "execution_count": null,
   "metadata": {},
   "outputs": [],
   "source": [
    "def isHappy(n):    \n",
    "    r = s = 0;    \n",
    "    while(n > 0):    \n",
    "        r = n%10    \n",
    "        s += r**2  \n",
    "        n //= 10    \n",
    "    return s  \n",
    "        \n",
    "n = int(input())    \n",
    "res = n;    \n",
    "   \n",
    "while(res != 1 and res != 4):    \n",
    "    res = isHappy(res)    \n",
    "     \n",
    "if(res == 1):    \n",
    "    print(\"happy number\")\n",
    "elif(res == 4):    \n",
    "    print(\"not a happy number\")  "
   ]
  },
  {
   "cell_type": "markdown",
   "metadata": {},
   "source": [
    "**4. Write a Python program to print all happy numbers between 1 and 100?**"
   ]
  },
  {
   "cell_type": "code",
   "execution_count": null,
   "metadata": {},
   "outputs": [],
   "source": [
    "def isHappy(n):    \n",
    "    r = s = 0;    \n",
    "    while(n > 0):    \n",
    "        r = n%10    \n",
    "        s += r**2  \n",
    "        n //= 10    \n",
    "    return s;\n",
    "        \n",
    "for i in range(1, 101):\n",
    "    res = i\n",
    "    while(res != 1 and res != 4):\n",
    "        res = isHappy(res)    \n",
    "     \n",
    "    if(res == 1):\n",
    "        print(i)"
   ]
  },
  {
   "cell_type": "markdown",
   "metadata": {},
   "source": [
    "**5. Write a Python program to determine whether the given number is a Harshad Number?**"
   ]
  },
  {
   "cell_type": "code",
   "execution_count": null,
   "metadata": {},
   "outputs": [],
   "source": [
    "def isHarshad(n): \n",
    "    num = n\n",
    "    r = s = 0;    \n",
    "    while(n > 0):    \n",
    "        r = n%10    \n",
    "        s += r  \n",
    "        n //= 10    \n",
    "    if(num % s == 0):\n",
    "        return 1\n",
    "        \n",
    "n = int(input(\"Enter the Number \"))\n",
    "if (isHarshad(n) == 1):\n",
    "    print(n, \"is Harshad Number\")\n",
    "else:\n",
    "    print(n, \"is not a Harshad Number\")"
   ]
  },
  {
   "cell_type": "markdown",
   "metadata": {},
   "source": [
    "**6. Write a Python program to print all pronic numbers between 1 and 100?**"
   ]
  },
  {
   "cell_type": "code",
   "execution_count": null,
   "metadata": {},
   "outputs": [],
   "source": [
    "def isPronicNumber(num):    \n",
    "    flag = False;    \n",
    "        \n",
    "    for j in range(1, num+1):      \n",
    "        if((j*(j+1)) == num):    \n",
    "            flag = True;    \n",
    "            break;    \n",
    "    return flag;    \n",
    "         \n",
    "print(\"Pronic numbers between 1 and 100: \");    \n",
    "for i in range(1, 101):    \n",
    "    if(isPronicNumber(i)):    \n",
    "        print(i)  "
   ]
  }
 ],
 "metadata": {
  "kernelspec": {
   "display_name": "Python 3",
   "language": "python",
   "name": "python3"
  },
  "language_info": {
   "codemirror_mode": {
    "name": "ipython",
    "version": 3
   },
   "file_extension": ".py",
   "mimetype": "text/x-python",
   "name": "python",
   "nbconvert_exporter": "python",
   "pygments_lexer": "ipython3",
   "version": "3.8.3"
  }
 },
 "nbformat": 4,
 "nbformat_minor": 4
}
