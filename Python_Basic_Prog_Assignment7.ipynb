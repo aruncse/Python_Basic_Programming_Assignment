{
 "cells": [
  {
   "cell_type": "markdown",
   "metadata": {},
   "source": [
    "## Python Basic Programming Assignment 7"
   ]
  },
  {
   "cell_type": "markdown",
   "metadata": {},
   "source": [
    "**1. Write a Python Program to find sum of array?**"
   ]
  },
  {
   "cell_type": "code",
   "execution_count": 1,
   "metadata": {},
   "outputs": [
    {
     "name": "stdout",
     "output_type": "stream",
     "text": [
      "Enter the Size of Array 5\n",
      "Enter the 0 Element 1\n",
      "Enter the 1 Element 2\n",
      "Enter the 2 Element 3\n",
      "Enter the 3 Element 4\n",
      "Enter the 4 Element 5\n",
      "Sum of the array is  15\n"
     ]
    }
   ],
   "source": [
    "a = []\n",
    "\n",
    "n = int(input(\"Enter the Size of Array \"))\n",
    "\n",
    "for i in range(n):\n",
    "    print(\"Enter the\",i, \"Element \", end = \"\")\n",
    "    num = int(input())\n",
    "    a.append(num)\n",
    "  \n",
    "\n",
    "print ('Sum of the array is ',sum(a))"
   ]
  },
  {
   "cell_type": "markdown",
   "metadata": {},
   "source": [
    "**2. Write a Python Program to find largest element in an array?**"
   ]
  },
  {
   "cell_type": "code",
   "execution_count": 3,
   "metadata": {},
   "outputs": [
    {
     "name": "stdout",
     "output_type": "stream",
     "text": [
      "Enter the Size of Array 5\n",
      "Enter the 0 Element 2\n",
      "Enter the 1 Element 4\n",
      "Enter the 2 Element 6\n",
      "Enter the 3 Element 8\n",
      "Enter the 4 Element 10\n",
      "The Largest Element of the Array is  10\n"
     ]
    }
   ],
   "source": [
    "a = []\n",
    "\n",
    "n = int(input(\"Enter the Size of Array \"))\n",
    "\n",
    "for i in range(n):\n",
    "    print(\"Enter the\",i, \"Element \", end = \"\")\n",
    "    num = int(input())\n",
    "    a.append(num)\n",
    " \n",
    "max = a[0]\n",
    "for i in range(n):\n",
    "    if a[i] > max:\n",
    "        max = a[i]        \n",
    "\n",
    "print(\"The Largest Element of the Array is \", max)"
   ]
  },
  {
   "cell_type": "markdown",
   "metadata": {},
   "source": [
    "**3. Write a Python Program for array rotation?**"
   ]
  },
  {
   "cell_type": "code",
   "execution_count": 4,
   "metadata": {},
   "outputs": [
    {
     "name": "stdout",
     "output_type": "stream",
     "text": [
      "Enter the Size of Array 5\n",
      "Enter the 0 Element 1\n",
      "Enter the 1 Element 2\n",
      "Enter the 2 Element 3\n",
      "Enter the 3 Element 4\n",
      "Enter the 4 Element 5\n",
      "Rotated Array is [5, 4, 3, 2, 1]\n"
     ]
    }
   ],
   "source": [
    "a = []\n",
    "\n",
    "n = int(input(\"Enter the Size of Array \"))\n",
    "\n",
    "for i in range(n):\n",
    "    print(\"Enter the\",i, \"Element \", end = \"\")\n",
    "    num = int(input())\n",
    "    a.append(num)\n",
    "    \n",
    "\n",
    "print(\"Rotated Array is \", end = \"\")\n",
    "print(a[::-1]) "
   ]
  },
  {
   "cell_type": "markdown",
   "metadata": {},
   "source": [
    "**4. Write a Python Program to Split the array and add the first part to the end?**"
   ]
  },
  {
   "cell_type": "code",
   "execution_count": 5,
   "metadata": {},
   "outputs": [
    {
     "name": "stdout",
     "output_type": "stream",
     "text": [
      "Enter the Size of Array 5\n",
      "Enter the 0 Element 1\n",
      "Enter the 1 Element 2\n",
      "Enter the 2 Element 3\n",
      "Enter the 3 Element 4\n",
      "Enter the 4 Element 5\n",
      "Enter the Split Position 2\n",
      "Rotated list is [3, 4, 5, 1, 2]\n"
     ]
    }
   ],
   "source": [
    "# Array Splitting\n",
    "\n",
    "def split(a,d):\n",
    "    a[:]=a[d:n]+a[0:d]\n",
    "    return a\n",
    "\n",
    "a = []\n",
    "\n",
    "\n",
    "n = int(input(\"Enter the Size of Array \"))\n",
    "\n",
    "for i in range(n):\n",
    "    print(\"Enter the\",i, \"Element \", end = \"\")\n",
    "    num = int(input())\n",
    "    a.append(num)\n",
    "d = int(input(\"Enter the Split Position \"))\n",
    "print(\"Rotated list is \", end = \"\")\n",
    "print(split(a,d)) "
   ]
  },
  {
   "cell_type": "markdown",
   "metadata": {},
   "source": [
    "**5. Write a Python Program to check if given array is Monotonic?**"
   ]
  },
  {
   "cell_type": "code",
   "execution_count": 6,
   "metadata": {},
   "outputs": [
    {
     "name": "stdout",
     "output_type": "stream",
     "text": [
      "Enter the Size of Array 5\n",
      "Enter the 0 Element 2\n",
      "Enter the 1 Element 4\n",
      "Enter the 2 Element 6\n",
      "Enter the 3 Element 8\n",
      "Enter the 4 Element 10\n",
      "True\n"
     ]
    }
   ],
   "source": [
    "def isMonotonic(A):\n",
    "  \n",
    "    return (all(A[i] <= A[i + 1] for i in range(len(A) - 1)) or\n",
    "            all(A[i] >= A[i + 1] for i in range(len(A) - 1)))\n",
    "\n",
    "A = []\n",
    "\n",
    "\n",
    "n = int(input(\"Enter the Size of Array \"))\n",
    "\n",
    "for i in range(n):\n",
    "    print(\"Enter the\",i, \"Element \", end = \"\")\n",
    "    num = int(input())\n",
    "    A.append(num)\n",
    "  \n",
    "print(isMonotonic(A))  "
   ]
  }
 ],
 "metadata": {
  "kernelspec": {
   "display_name": "Python 3",
   "language": "python",
   "name": "python3"
  },
  "language_info": {
   "codemirror_mode": {
    "name": "ipython",
    "version": 3
   },
   "file_extension": ".py",
   "mimetype": "text/x-python",
   "name": "python",
   "nbconvert_exporter": "python",
   "pygments_lexer": "ipython3",
   "version": "3.8.3"
  }
 },
 "nbformat": 4,
 "nbformat_minor": 4
}
