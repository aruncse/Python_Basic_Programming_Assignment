{
 "cells": [
  {
   "cell_type": "markdown",
   "metadata": {},
   "source": [
    "## Python Basic Programming Assignment 5"
   ]
  },
  {
   "cell_type": "markdown",
   "metadata": {},
   "source": [
    "**1. Write a Python Program to Find LCM?**"
   ]
  },
  {
   "cell_type": "code",
   "execution_count": 1,
   "metadata": {},
   "outputs": [
    {
     "name": "stdout",
     "output_type": "stream",
     "text": [
      "Enter the first number:3\n",
      "Enter the second number:4\n",
      "LCM of 3 and 4 is: 12\n"
     ]
    }
   ],
   "source": [
    "a=int(input(\"Enter the first number:\"))\n",
    "b=int(input(\"Enter the second number:\"))\n",
    "if(a<b):\n",
    "    min1=a\n",
    "else:\n",
    "    min1=b\n",
    "while(1):\n",
    "    if(min1%a == 0 and min1%b == 0):\n",
    "        print(\"LCM of %d and %d is:\"%(a,b),min1)\n",
    "        break\n",
    "    min1=min1+1"
   ]
  },
  {
   "cell_type": "markdown",
   "metadata": {},
   "source": [
    "**2. Write a Python Program to Find HCF?**"
   ]
  },
  {
   "cell_type": "code",
   "execution_count": 2,
   "metadata": {},
   "outputs": [
    {
     "name": "stdout",
     "output_type": "stream",
     "text": [
      "Enter the first number:9\n",
      "Enter the second number:12\n",
      "HCF of 9 and 12 is: 3\n"
     ]
    }
   ],
   "source": [
    "a=int(input(\"Enter the first number:\"))\n",
    "b=int(input(\"Enter the second number:\"))\n",
    "if(a>b):\n",
    "    max1=a\n",
    "else:\n",
    "    max1=b\n",
    "for i in range(1,max1+1):\n",
    "    if a%i == 0 and b%i == 0:\n",
    "        hcf = i\n",
    "\n",
    "print(\"HCF of\", a, \"and\", b, \"is:\", hcf)"
   ]
  },
  {
   "cell_type": "markdown",
   "metadata": {},
   "source": [
    "**3. Write a Python Program to Convert Decimal to Binary, Octal and Hexadecimal?**"
   ]
  },
  {
   "cell_type": "code",
   "execution_count": 3,
   "metadata": {},
   "outputs": [
    {
     "name": "stdout",
     "output_type": "stream",
     "text": [
      "Enter the Decimal Number 15\n",
      "The decimal value of 15 is: 15\n",
      "The Binary value of  15 is 0b1111\n",
      "The Octal value of  15 is 0o17\n",
      "The Hexa Decimal value of  15 is 0xf\n"
     ]
    }
   ],
   "source": [
    "dec = int(input(\"Enter the Decimal Number \"))\n",
    "\n",
    "print(\"The decimal value of\", dec, \"is:\", dec)\n",
    "print(\"The Binary value of \",dec, \"is\", bin(dec))\n",
    "print(\"The Octal value of \",dec, \"is\", oct(dec))\n",
    "print(\"The Hexa Decimal value of \",dec, \"is\", hex(dec))"
   ]
  },
  {
   "cell_type": "markdown",
   "metadata": {},
   "source": [
    "**4. Write a Python Program To Find ASCII value of a character?**"
   ]
  },
  {
   "cell_type": "code",
   "execution_count": 4,
   "metadata": {},
   "outputs": [
    {
     "name": "stdout",
     "output_type": "stream",
     "text": [
      "Enter the Character A\n",
      "The ASCII value of 'A' is 65\n"
     ]
    }
   ],
   "source": [
    "c  = input(\"Enter the Character \")\n",
    "print(\"The ASCII value of '\" + c + \"' is\", ord(c))"
   ]
  },
  {
   "cell_type": "markdown",
   "metadata": {},
   "source": [
    "**5. Write a Python Program to Make a Simple Calculator with 4 basic mathematical operations?**"
   ]
  },
  {
   "cell_type": "code",
   "execution_count": 5,
   "metadata": {},
   "outputs": [
    {
     "name": "stdout",
     "output_type": "stream",
     "text": [
      "Please Choose the operation.\n",
      "1. Add\n",
      "2. Subtract\n",
      "3. Multiply\n",
      "4. Divide\n",
      "Please enter choice (1/ 2/ 3/ 4): 1\n",
      "Please enter the first number: 2\n",
      "Please enter the second number: 3\n",
      "2  +  3  =  5\n"
     ]
    }
   ],
   "source": [
    "print (\"Please Choose the operation.\")    \n",
    "print (\"1. Add\")    \n",
    "print (\"2. Subtract\")    \n",
    "print (\"3. Multiply\")    \n",
    "print (\"4. Divide\")    \n",
    "    \n",
    "choice = int(input(\"Please enter choice (1/ 2/ 3/ 4): \"))    \n",
    "    \n",
    "num_1 = int (input (\"Please enter the first number: \"))    \n",
    "num_2 = int (input (\"Please enter the second number: \"))    \n",
    "    \n",
    "if choice == 1:    \n",
    "    print (num_1, \" + \", num_2, \" = \",(num_1 + num_2))    \n",
    "    \n",
    "elif choice == 2:    \n",
    "    print (num_1, \" - \", num_2, \" = \",(num_1 - num_2))    \n",
    "    \n",
    "elif choice == 3:    \n",
    "    print (num_1, \" * \", num_2, \" = \", (num_1 * num_2))    \n",
    "elif choice == 4:   \n",
    "    print (num_1, \" / \", num_2, \" = \", (num_1 / num_2))    \n",
    "else:    \n",
    "    print (\"This is an invalid input\")    "
   ]
  }
 ],
 "metadata": {
  "kernelspec": {
   "display_name": "Python 3",
   "language": "python",
   "name": "python3"
  },
  "language_info": {
   "codemirror_mode": {
    "name": "ipython",
    "version": 3
   },
   "file_extension": ".py",
   "mimetype": "text/x-python",
   "name": "python",
   "nbconvert_exporter": "python",
   "pygments_lexer": "ipython3",
   "version": "3.8.3"
  }
 },
 "nbformat": 4,
 "nbformat_minor": 4
}
