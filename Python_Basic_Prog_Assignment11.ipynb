{
 "cells": [
  {
   "cell_type": "markdown",
   "metadata": {},
   "source": [
    "## Python Basic Programming Assignment 11"
   ]
  },
  {
   "cell_type": "markdown",
   "metadata": {},
   "source": [
    "**1. Write a Python program to find words which are greater than given length k?**"
   ]
  },
  {
   "cell_type": "code",
   "execution_count": 1,
   "metadata": {},
   "outputs": [
    {
     "name": "stdout",
     "output_type": "stream",
     "text": [
      "Enter the String Python is a high-level, general-purpose and a very popular programming language.\n",
      "Enter the length k 4\n",
      "['Python', 'high-level,', 'general-purpose', 'popular', 'programming', 'language.']\n"
     ]
    }
   ],
   "source": [
    "def string_k(k, str1):\n",
    "    str2 = []\n",
    "    text = str1.split(' ')\n",
    "    for x in text:\n",
    "        if len(x) > k:\n",
    "            str2.append(x)\n",
    "    return str2\n",
    "    \n",
    "str1 = input(\"Enter the String \")\n",
    "k = int(input(\"Enter the length k \"))\n",
    "print(string_k(k, str1))"
   ]
  },
  {
   "cell_type": "markdown",
   "metadata": {},
   "source": [
    "**2. Write a Python program for removing i-th character from a string?**"
   ]
  },
  {
   "cell_type": "code",
   "execution_count": 2,
   "metadata": {},
   "outputs": [
    {
     "name": "stdout",
     "output_type": "stream",
     "text": [
      "Enter the String Python is a high-level, general-purpose and a very popular programming language. \n",
      "Enter the ith character to remove 10\n",
      "Python is  high-level, general-purpose and a very popular programming language. \n"
     ]
    }
   ],
   "source": [
    "def remove_i(i, str1):\n",
    "    a = str1[:i]\n",
    "    b = str1[i+1:]\n",
    "    return a+b\n",
    "    \n",
    "str1 = input(\"Enter the String \")\n",
    "i = int(input(\"Enter the ith character to remove \"))\n",
    "print(remove_i(i, str1))  "
   ]
  },
  {
   "cell_type": "markdown",
   "metadata": {},
   "source": [
    "**3. Write a Python program to split and join a string?**"
   ]
  },
  {
   "cell_type": "code",
   "execution_count": 3,
   "metadata": {},
   "outputs": [
    {
     "name": "stdout",
     "output_type": "stream",
     "text": [
      "Enter the StringPython is a high-level, general-purpose and a very popular programming language. \n",
      "['Python', 'is', 'a', 'high-level,', 'general-purpose', 'and', 'a', 'very', 'popular', 'programming', 'language.', '']\n",
      "Python-is-a-high-level,-general-purpose-and-a-very-popular-programming-language.-\n"
     ]
    }
   ],
   "source": [
    "def split_string(string):\n",
    "    list_string = string.split(' ')\n",
    "    return list_string\n",
    "\n",
    "def join_string(list_string):\n",
    "    string = '-'.join(list_string)\n",
    "    return string\n",
    "\n",
    "string = input(\"Enter the String\")\n",
    "list_string = split_string(string)\n",
    "print(list_string)\n",
    "    \n",
    "new_string = join_string(list_string)\n",
    "print(new_string)\n"
   ]
  },
  {
   "cell_type": "markdown",
   "metadata": {},
   "source": [
    "**4. Write a Python to check if a given string is binary string or not?**"
   ]
  },
  {
   "cell_type": "code",
   "execution_count": 4,
   "metadata": {},
   "outputs": [
    {
     "name": "stdout",
     "output_type": "stream",
     "text": [
      "Enter the String 0101010000000001111111\n",
      "Yes, It is Binary String \n"
     ]
    }
   ],
   "source": [
    "def check(string) :\n",
    "    p = set(string)\n",
    " \n",
    "    s = {'0', '1'}\n",
    "    if s == p or p == {'0'} or p == {'1'}:\n",
    "        print(\"Yes, It is Binary String \")\n",
    "    else :\n",
    "        print(\"No, It is not a Binary String\")\n",
    "\n",
    "string = input(\"Enter the String \")\n",
    "check(string)"
   ]
  },
  {
   "cell_type": "markdown",
   "metadata": {},
   "source": [
    "**5. Write a Python program to find uncommon words from two Strings?**"
   ]
  },
  {
   "cell_type": "code",
   "execution_count": 5,
   "metadata": {},
   "outputs": [
    {
     "name": "stdout",
     "output_type": "stream",
     "text": [
      "Enter the First String Python is a high-level, general-purpose and a very popular programming language.\n",
      "Enter the Second String I love Python\n",
      "['is', 'a', 'high-level,', 'general-purpose', 'and', 'a', 'very', 'popular', 'programming', 'language.', 'I', 'love']\n"
     ]
    }
   ],
   "source": [
    "def uncommon(a,b):\n",
    "    list_a = a.split()\n",
    "    list_b = b.split()\n",
    "    uc = []\n",
    "    for i in list_a:\n",
    "        if i not in list_b:\n",
    "            uc.append(i)\n",
    "    for j in list_b:\n",
    "        if j not in list_a:\n",
    "            uc.append(j)\n",
    "  \n",
    "    return uc\n",
    "  \n",
    "a = input(\"Enter the First String \")\n",
    "b = input(\"Enter the Second String \")\n",
    "print(uncommon(a,b))"
   ]
  },
  {
   "cell_type": "markdown",
   "metadata": {},
   "source": [
    "**6. Write a Python to find all duplicate characters in string?**"
   ]
  },
  {
   "cell_type": "code",
   "execution_count": null,
   "metadata": {},
   "outputs": [],
   "source": [
    "string = input(\"Enter the String \")\n",
    "duplicates = {}\n",
    "for char in string:\n",
    "    if char in duplicates:\n",
    "        duplicates[char] += 1\n",
    "    else:\n",
    "        duplicates[char] = 1\n",
    "for key, value in duplicates.items():\n",
    "    if value > 1:\n",
    "        print(key, end = \" \")"
   ]
  },
  {
   "cell_type": "markdown",
   "metadata": {},
   "source": [
    "**7. Write a Python Program to check if a string contains any special character?**"
   ]
  },
  {
   "cell_type": "code",
   "execution_count": null,
   "metadata": {},
   "outputs": [],
   "source": [
    "string = input(\"Enter the String\")\n",
    "string.split()\n",
    "count = 0\n",
    "s='[@_!#$%^&*()<>?/\\|}{~:]'\n",
    "for i in range(len(string)):\n",
    "    if string[i] in s:\n",
    "        count += 1     \n",
    "if count:\n",
    "    print(\"string contains special characters \")\n",
    "else:\n",
    "    print(\"string does'nt contain any special character \")\n",
    " "
   ]
  }
 ],
 "metadata": {
  "kernelspec": {
   "display_name": "Python 3",
   "language": "python",
   "name": "python3"
  },
  "language_info": {
   "codemirror_mode": {
    "name": "ipython",
    "version": 3
   },
   "file_extension": ".py",
   "mimetype": "text/x-python",
   "name": "python",
   "nbconvert_exporter": "python",
   "pygments_lexer": "ipython3",
   "version": "3.8.3"
  }
 },
 "nbformat": 4,
 "nbformat_minor": 4
}
