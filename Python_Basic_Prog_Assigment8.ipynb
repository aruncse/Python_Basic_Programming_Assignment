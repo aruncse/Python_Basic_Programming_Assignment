{
 "cells": [
  {
   "cell_type": "markdown",
   "metadata": {},
   "source": [
    "## Python Basic Programming Assignment 8"
   ]
  },
  {
   "cell_type": "markdown",
   "metadata": {},
   "source": [
    "**1. Write a Python Program to Add Two Matrices?**"
   ]
  },
  {
   "cell_type": "code",
   "execution_count": 1,
   "metadata": {},
   "outputs": [
    {
     "name": "stdout",
     "output_type": "stream",
     "text": [
      "Enter the Row Size 2\n",
      "Enter the Column Size 2\n",
      "Enter the elements of First Matrix:\n",
      "1\n",
      "2\n",
      "3\n",
      "4\n",
      "First Matrix is: \n",
      "[1, 2]\n",
      "[3, 4]\n",
      "Enter the elements of Second Matrix:\n",
      "2\n",
      "2\n",
      "6\n",
      "7\n",
      "[2, 2]\n",
      "[6, 7]\n",
      "The Sum of Above two Matrices is : \n",
      "[3, 4]\n",
      "[9, 11]\n"
     ]
    }
   ],
   "source": [
    "\n",
    "rows = int(input(\"Enter the Row Size \"))\n",
    "column = int(input(\"Enter the Column Size \"))\n",
    "\n",
    "print(\"Enter the elements of First Matrix:\")\n",
    "A = [[int(input()) for i in range(column)] for i in range(rows)]\n",
    "print(\"First Matrix is: \")\n",
    "for i in A:\n",
    "    print(i)\n",
    "\n",
    "print(\"Enter the elements of Second Matrix:\")\n",
    "B = [[int(input()) for i in range(column)] for i in range(rows)]\n",
    "for i in B:\n",
    "    print(i)\n",
    "    \n",
    "result = [[0 for i in range(column)] for i in range(rows)]\n",
    "\n",
    "for i in range(rows):\n",
    "    for j in range(column):\n",
    "        result[i][j] = A[i][j] + B[i][j]\n",
    "\n",
    "print(\"The Sum of Above two Matrices is : \")\n",
    "for r in result:\n",
    "    print(r)"
   ]
  },
  {
   "cell_type": "markdown",
   "metadata": {},
   "source": [
    "**2. Write a Python Program to Multiply Two Matrices?**"
   ]
  },
  {
   "cell_type": "code",
   "execution_count": 2,
   "metadata": {},
   "outputs": [
    {
     "name": "stdout",
     "output_type": "stream",
     "text": [
      "Enter the Row Size of First Matrix 2\n",
      "Enter the Column Size of First Matrix 2\n",
      "Enter the elements of First Matrix:\n",
      "1\n",
      "2\n",
      "2\n",
      "3\n",
      "First Matrix is: \n",
      "[1, 2]\n",
      "[2, 3]\n",
      "Enter the Row Size of Second Matrix2\n",
      "Enter the Column Size of Second Matrix 2\n",
      "Enter the elements of Second Matrix:\n",
      "1\n",
      "2\n",
      "2\n",
      "3\n",
      "[1, 2]\n",
      "[2, 3]\n",
      "The Product of Above two Matrices is : \n",
      "[4, 6]\n",
      "[6, 9]\n"
     ]
    }
   ],
   "source": [
    "\n",
    "rows = int(input(\"Enter the Row Size of First Matrix \"))\n",
    "column = int(input(\"Enter the Column Size of First Matrix \"))\n",
    "\n",
    "print(\"Enter the elements of First Matrix:\")\n",
    "A = [[int(input()) for i in range(column)] for i in range(rows)]\n",
    "print(\"First Matrix is: \")\n",
    "for i in A:\n",
    "    print(i)\n",
    "    \n",
    "r = int(input(\"Enter the Row Size of Second Matrix\"))\n",
    "c = int(input(\"Enter the Column Size of Second Matrix \"))\n",
    "\n",
    "print(\"Enter the elements of Second Matrix:\")\n",
    "B = [[int(input()) for i in range(c)] for i in range(r)]\n",
    "for i in B:\n",
    "    print(i)\n",
    "\n",
    "    \n",
    "if (column == r):\n",
    "    result = [[0 for i in range(c)] for i in range(r)]\n",
    "    for i in range(len(A)):\n",
    "        for j in range(len(B[0])):\n",
    "            for k in range(len(B)):\n",
    "                result[i][j] =+ A[i][k] * B[k][j]\n",
    "else:\n",
    "    print(\"Multiplication is Not Possible !\")\n",
    "\n",
    "print(\"The Product of Above two Matrices is : \")\n",
    "for r in result:\n",
    "    print(r)"
   ]
  },
  {
   "cell_type": "markdown",
   "metadata": {},
   "source": [
    "**3. Write a Python Program to Transpose a Matrix?**"
   ]
  },
  {
   "cell_type": "code",
   "execution_count": 3,
   "metadata": {},
   "outputs": [
    {
     "name": "stdout",
     "output_type": "stream",
     "text": [
      "Enter the Row Size 2\n",
      "Enter the Column Size 2\n",
      "Enter the elements of Matrix:\n",
      "1\n",
      "9\n",
      "2\n",
      "8\n",
      "First Matrix is: \n",
      "[1, 9]\n",
      "[2, 8]\n",
      "Transpose matrix is: \n",
      "[1, 2]\n",
      "[9, 8]\n"
     ]
    }
   ],
   "source": [
    "\n",
    "rows = int(input(\"Enter the Row Size \"))\n",
    "column = int(input(\"Enter the Column Size \"))\n",
    "\n",
    "print(\"Enter the elements of Matrix:\")\n",
    "A = [[int(input()) for i in range(column)] for i in range(rows)]\n",
    "print(\"First Matrix is: \")\n",
    "for i in A:\n",
    "    print(i)\n",
    "    \n",
    "\n",
    "result =[[0 for i in range(rows)] for j in range(column)]\n",
    "\n",
    "for r in range(rows):\n",
    "   \n",
    "   for c in range(column):\n",
    "    \n",
    "       result[c][r] = A[r][c]\n",
    "\n",
    "print(\"Transpose matrix is: \")\n",
    "for r in result:\n",
    "    print(r)"
   ]
  },
  {
   "cell_type": "markdown",
   "metadata": {},
   "source": [
    "**4. Write a Python Program to Sort Words in Alphabetic Order?**"
   ]
  },
  {
   "cell_type": "code",
   "execution_count": 4,
   "metadata": {},
   "outputs": [
    {
     "name": "stdout",
     "output_type": "stream",
     "text": [
      "Enter the StringISRO facilities will be open for private sector for joint ventures\n",
      "The sorted words are:\n",
      "be\n",
      "facilities\n",
      "for\n",
      "for\n",
      "isro\n",
      "joint\n",
      "open\n",
      "private\n",
      "sector\n",
      "ventures\n",
      "will\n"
     ]
    }
   ],
   "source": [
    "my_str = input(\"Enter the String \")\n",
    "\n",
    "words = [word.lower() for word in my_str.split()]\n",
    "\n",
    "words.sort()\n",
    "\n",
    "print(\"The sorted words are: \")\n",
    "for word in words:\n",
    "   print(word)"
   ]
  },
  {
   "cell_type": "markdown",
   "metadata": {},
   "source": [
    "**5. Write a Python Program to Remove Punctuation From a String?**"
   ]
  },
  {
   "cell_type": "code",
   "execution_count": 5,
   "metadata": {},
   "outputs": [
    {
     "name": "stdout",
     "output_type": "stream",
     "text": [
      " \"Good Morning! Mr. Arun. Had your breakfast?\";  \n",
      " Good Morning Mr Arun Had your breakfast  \n"
     ]
    }
   ],
   "source": [
    "import string\n",
    "my_str = input()\n",
    "new_str = my_str.translate(str.maketrans('', '', string.punctuation))\n",
    "print(new_str) "
   ]
  }
 ],
 "metadata": {
  "kernelspec": {
   "display_name": "Python 3",
   "language": "python",
   "name": "python3"
  },
  "language_info": {
   "codemirror_mode": {
    "name": "ipython",
    "version": 3
   },
   "file_extension": ".py",
   "mimetype": "text/x-python",
   "name": "python",
   "nbconvert_exporter": "python",
   "pygments_lexer": "ipython3",
   "version": "3.8.3"
  }
 },
 "nbformat": 4,
 "nbformat_minor": 4
}
