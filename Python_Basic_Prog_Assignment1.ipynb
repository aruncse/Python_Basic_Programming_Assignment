{
 "cells": [
  {
   "cell_type": "markdown",
   "metadata": {},
   "source": [
    "## Python Basic Programming Assignment 1"
   ]
  },
  {
   "cell_type": "markdown",
   "metadata": {},
   "source": [
    "**1. Write a Python program to print \"Hello Python\"?**"
   ]
  },
  {
   "cell_type": "code",
   "execution_count": 1,
   "metadata": {},
   "outputs": [
    {
     "name": "stdout",
     "output_type": "stream",
     "text": [
      "Hello Python\n"
     ]
    }
   ],
   "source": [
    "print(\"Hello Python\")"
   ]
  },
  {
   "cell_type": "markdown",
   "metadata": {},
   "source": [
    "**2. Write a Python program to do arithmetical operations addition and division.?**"
   ]
  },
  {
   "cell_type": "code",
   "execution_count": 4,
   "metadata": {},
   "outputs": [
    {
     "name": "stdout",
     "output_type": "stream",
     "text": [
      "Enter First Number  2\n",
      "Enter Second Number  2\n",
      "The Sum is 4\n",
      "The Division of a and b is  1.0\n"
     ]
    }
   ],
   "source": [
    "a = int(input(\"Enter First Number  \"))\n",
    "\n",
    "b = int(input(\"Enter Second Number  \"))\n",
    "\n",
    "print(\"The Sum is\", (a+b))\n",
    "print(\"The Division of a and b is \", a/b)"
   ]
  },
  {
   "cell_type": "markdown",
   "metadata": {},
   "source": [
    "**3. Write a Python program to find the area of a triangle?**"
   ]
  },
  {
   "cell_type": "code",
   "execution_count": 7,
   "metadata": {},
   "outputs": [
    {
     "name": "stdout",
     "output_type": "stream",
     "text": [
      "Enter the sides of Triangle\n",
      "Enter the length of AB 15\n",
      "Enter the length of BC 20\n",
      "Enter the length of AC 25\n",
      "Area of Triangle is  150.0\n"
     ]
    }
   ],
   "source": [
    "print(\"Enter the sides of Triangle\")\n",
    "a = int(input(\"Enter the length of AB \"))\n",
    "b = int(input(\"Enter the length of BC \"))\n",
    "c = int(input(\"Enter the length of AC \"))\n",
    "\n",
    "s = int((a+b+c)/2)\n",
    "area = (s*(s-a)*(s-b)*(s-c))**0.5\n",
    "print(\"Area of Triangle ABC is \", area)"
   ]
  },
  {
   "cell_type": "markdown",
   "metadata": {},
   "source": [
    "**4. Write a Python program to swap two variables?**"
   ]
  },
  {
   "cell_type": "code",
   "execution_count": 11,
   "metadata": {},
   "outputs": [
    {
     "name": "stdout",
     "output_type": "stream",
     "text": [
      "Enter the first variable 3\n",
      "Enter the second variable 5\n",
      "Before Swapping : a =  3 and b =  5\n",
      "After Swapping : a =  5 and b =  3\n"
     ]
    }
   ],
   "source": [
    "a = int(input(\"Enter the first variable \"))\n",
    "b = int(input(\"Enter the second variable \"))\n",
    "print(\"Before Swapping : a = \", a, \"and b = \",b)\n",
    "a = a + b\n",
    "b = a - b\n",
    "a = a - b\n",
    "print(\"After Swapping : a = \", a, \"and b = \",b)"
   ]
  },
  {
   "cell_type": "markdown",
   "metadata": {},
   "source": [
    "**5. Write a Python program to generate a random number?**"
   ]
  },
  {
   "cell_type": "code",
   "execution_count": 12,
   "metadata": {},
   "outputs": [
    {
     "name": "stdout",
     "output_type": "stream",
     "text": [
      "792\n"
     ]
    }
   ],
   "source": [
    "    import random  \n",
    "    n = random.randint(0,1000)  \n",
    "    print(n)  "
   ]
  }
 ],
 "metadata": {
  "kernelspec": {
   "display_name": "Python 3",
   "language": "python",
   "name": "python3"
  },
  "language_info": {
   "codemirror_mode": {
    "name": "ipython",
    "version": 3
   },
   "file_extension": ".py",
   "mimetype": "text/x-python",
   "name": "python",
   "nbconvert_exporter": "python",
   "pygments_lexer": "ipython3",
   "version": "3.8.3"
  }
 },
 "nbformat": 4,
 "nbformat_minor": 4
}
